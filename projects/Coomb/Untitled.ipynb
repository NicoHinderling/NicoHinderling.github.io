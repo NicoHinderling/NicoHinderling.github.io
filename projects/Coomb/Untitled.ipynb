{
 "cells": [
  {
   "cell_type": "code",
   "execution_count": 2,
   "metadata": {
    "collapsed": true
   },
   "outputs": [],
   "source": [
    "import math\n",
    "import random\n",
    "import numpy as np\n",
    "import pandas as pd\n",
    "from scipy.stats import beta\n",
    "import matplotlib.pyplot as plt"
   ]
  },
  {
   "cell_type": "code",
   "execution_count": 3,
   "metadata": {
    "collapsed": true
   },
   "outputs": [],
   "source": [
    "random.seed(3)"
   ]
  },
  {
   "cell_type": "code",
   "execution_count": 4,
   "metadata": {
    "collapsed": true
   },
   "outputs": [],
   "source": [
    "class Bandit(object):\n",
    "    def __init__(self, num_options=2, prior=(1.0, 1.0)):\n",
    "        self.trials = np.zeros(shape=(num_options,), dtype=int)\n",
    "        self.successes = np.zeros(shape=(num_options,), dtype=int)\n",
    "        self.num_options = num_options\n",
    "        self.prior = prior\n",
    "\n",
    "    def update(self, choice, conv):\n",
    "        self.trials[choice] = self.trials[choice] + 1\n",
    "        if (conv):\n",
    "            self.successes[choice] = self.successes[choice] + 1\n",
    "\n",
    "    def evaluate(self):\n",
    "        sampled_theta = []\n",
    "        for i in range(self.num_options):\n",
    "            dist = beta(self.prior[0] + self.successes[i],\n",
    "                        self.prior[1] + self.trials[i] - self.successes[i])\n",
    "            sampled_theta += [dist.rvs()]\n",
    "        return sampled_theta.index(max(sampled_theta))"
   ]
  },
  {
   "cell_type": "code",
   "execution_count": 5,
   "metadata": {
    "collapsed": true
   },
   "outputs": [],
   "source": [
    "theta = (0.3, 0.4)\n",
    "\n",
    "def click(c):\n",
    "    if random.random() < theta[c]:\n",
    "        return True\n",
    "    else:\n",
    "        return False"
   ]
  },
  {
   "cell_type": "code",
   "execution_count": 6,
   "metadata": {
    "collapsed": true
   },
   "outputs": [],
   "source": [
    "N = 10000\n",
    "incr_trials = np.zeros(shape=(N, 2))\n",
    "successes = np.zeros(shape=(N, 2))\n",
    "\n",
    "b = Bandit()\n",
    "for i in range(N):\n",
    "    choice = b.evaluate()\n",
    "    conv = click(choice)\n",
    "    b.update(choice, conv)\n",
    "    incr_trials[i] = b.trials\n",
    "    successes[i] = b.successes"
   ]
  },
  {
   "cell_type": "code",
   "execution_count": 12,
   "metadata": {
    "collapsed": false
   },
   "outputs": [],
   "source": [
    "n = np.arange(N) + 1\n",
    "f, ax = plt.subplots(figsize=(15, 7))\n",
    "ax.set(xscale='log', yscale='log')\n",
    "ax.set_title('Pulls Per Arm with Respect to Trial Number')\n",
    "ax.set_xlabel('Trials')\n",
    "ax.set_ylabel('Pulls')\n",
    "plt.plot(n, incr_trials[:, 0], label='Theta 0')\n",
    "plt.plot(n , incr_trials[:, 1], label='Theta 1')\n",
    "plt.legend(bbox_to_anchor=(1.05, 1), loc=2, borderaxespad=0.)\n",
    "plt.show()"
   ]
  },
  {
   "cell_type": "code",
   "execution_count": 15,
   "metadata": {
    "collapsed": false
   },
   "outputs": [],
   "source": [
    "f, ax = plt.subplots(figsize=(15, 7))\n",
    "ax.set(xscale='log', yscale='linear')\n",
    "ax.set_title('Click Through Rate With Respect to Trial Number')\n",
    "ax.set_xlabel('Trial')\n",
    "ax.set_ylabel('CTR')\n",
    "ax.set_xlim(10, N)\n",
    "ax.set_ylim(.15, .55)\n",
    "plt.plot(n, (successes[:, 0] + successes[:, 1]) / n, label='Overal CTR')\n",
    "plt.plot(n, np.zeros(shape=(N,)) + 0.3, label='Theta 0 CTR')\n",
    "plt.plot(n, np.zeros(shape=(N,)) + 0.4, label='Theta 1 CTR')\n",
    "plt.legend(['Overal CTR', 'Theta 0 CTR', 'Theta 1 CTR'])\n",
    "plt.legend(bbox_to_anchor=(1.05, 1), loc=2, borderaxespad=0.)\n",
    "plt.show()"
   ]
  },
  {
   "cell_type": "code",
   "execution_count": 24,
   "metadata": {
    "collapsed": false
   },
   "outputs": [
    {
     "ename": "NameError",
     "evalue": "name 'get_pricing' is not defined",
     "output_type": "error",
     "traceback": [
      "\u001b[0;31m---------------------------------------------------------------------------\u001b[0m",
      "\u001b[0;31mNameError\u001b[0m                                 Traceback (most recent call last)",
      "\u001b[0;32m<ipython-input-24-52777446eac4>\u001b[0m in \u001b[0;36m<module>\u001b[0;34m()\u001b[0m\n\u001b[1;32m      7\u001b[0m \u001b[0mstart\u001b[0m \u001b[0;34m=\u001b[0m \u001b[0;34m'2003-09-22'\u001b[0m\u001b[0;34m\u001b[0m\u001b[0m\n\u001b[1;32m      8\u001b[0m \u001b[0mend\u001b[0m \u001b[0;34m=\u001b[0m \u001b[0;34m'2013-09-17'\u001b[0m\u001b[0;34m\u001b[0m\u001b[0m\n\u001b[0;32m----> 9\u001b[0;31m \u001b[0mdf\u001b[0m \u001b[0;34m=\u001b[0m \u001b[0mget_pricing\u001b[0m\u001b[0;34m(\u001b[0m\u001b[0msymbol_list\u001b[0m\u001b[0;34m,\u001b[0m \u001b[0mfields\u001b[0m\u001b[0;34m=\u001b[0m\u001b[0;34m[\u001b[0m\u001b[0;34m'open_price'\u001b[0m\u001b[0;34m,\u001b[0m \u001b[0;34m'close_price'\u001b[0m\u001b[0;34m]\u001b[0m\u001b[0;34m,\u001b[0m \u001b[0mstart_date\u001b[0m\u001b[0;34m=\u001b[0m\u001b[0mstart\u001b[0m\u001b[0;34m,\u001b[0m \u001b[0mend_date\u001b[0m\u001b[0;34m=\u001b[0m\u001b[0mend\u001b[0m\u001b[0;34m)\u001b[0m\u001b[0;34m\u001b[0m\u001b[0m\n\u001b[0m",
      "\u001b[0;31mNameError\u001b[0m: name 'get_pricing' is not defined"
     ]
    }
   ],
   "source": [
    "symbol_list = ['JPM', 'TGT', 'WFC', 'AAPL', 'WMT', 'COST', 'GS', 'AMZN', 'MSFT']\n",
    "sym_dict = {}\n",
    "sym_key_val = []\n",
    "for i, sym in enumerate(symbol_list):\n",
    "    sym_dict[sym] = i\n",
    "    sym_key_val.append((sym, i))\n",
    "start = '2003-09-22'\n",
    "end = '2013-09-17'\n",
    "df = get_pricing(symbol_list, fields=['open_price', 'close_price'], start_date=start, end_date=end)"
   ]
  },
  {
   "cell_type": "code",
   "execution_count": 17,
   "metadata": {
    "collapsed": true
   },
   "outputs": [],
   "source": [
    "def run(df):\n",
    "    random.shuffle(sym_key_val)\n",
    "    trading_days = len(df['open_price'].ix[:,0])\n",
    "    num_stocks = len(df['open_price'].columns)\n",
    "\n",
    "    reward = lambda choice, t: payoff(df, t, sym_key_val[choice][0])\n",
    "    action_reward = lambda j: sum([reward(j,t) for t in range(trading_days)])\n",
    "\n",
    "    best_action = max(range(num_stocks), key=action_reward)\n",
    "    best_action_reward_cum = action_reward(best_action)\n",
    "\n",
    "    cum_reward = 0\n",
    "    t = 0\n",
    "    ucb1gen = ucb1(num_stocks, reward)\n",
    "    for (action, reward, ucbs) in ucb1gen:\n",
    "        cum_reward += reward\n",
    "        t += 1\n",
    "        if t == trading_days:\n",
    "            break\n",
    "            \n",
    "    return cum_reward, best_action_reward_cum, ucbs, sym_key_val[best_action][0]"
   ]
  },
  {
   "cell_type": "code",
   "execution_count": 18,
   "metadata": {
    "collapsed": true
   },
   "outputs": [],
   "source": [
    "def upper_bound(step, num_tests):\n",
    "    return math.sqrt(2.0 * math.log(step + 1) / num_tests)\n",
    "\n",
    "def ucb1(num_stocks, reward):\n",
    "    payoff_sums = [0.0] * num_stocks\n",
    "    num_tests = [1] * num_stocks\n",
    "    ucbs = [0.0] * num_stocks\n",
    "\n",
    "    for t in range(num_stocks):\n",
    "        payoff_sums[t] = reward(t,t)\n",
    "        yield t, payoff_sums[t], ucbs\n",
    "\n",
    "    t = num_stocks\n",
    "\n",
    "    while True:\n",
    "        ucbs = [payoff_sums[i] / num_tests[i] + upper_bound(t, num_tests[i]) for i in range(num_stocks)]\n",
    "        action = max(range(num_stocks), key=lambda i: ucbs[i])\n",
    "        reward_val = reward(action, t)\n",
    "\n",
    "        for a in range(num_stocks):\n",
    "            num_tests[a] += 1\n",
    "            payoff_sums[a] += reward(a, t)\n",
    "\n",
    "        yield action, reward_val, ucbs\n",
    "        t = t + 1"
   ]
  },
  {
   "cell_type": "code",
   "execution_count": 19,
   "metadata": {
    "collapsed": true
   },
   "outputs": [],
   "source": [
    "def payoff(df, t, stock, cash_am=1.0):\n",
    "    open_p, close_p = df['open_price'].ix[:,sym_dict[stock]][t], \\\n",
    "                            df['close_price'].ix[:,sym_dict[stock]][t]\n",
    "    # allows for purchasing fraction of shares     \n",
    "    shares_purchased = cash_am / open_p\n",
    "    cash_from_sale = shares_purchased * close_p\n",
    "\n",
    "    return cash_from_sale - cash_am"
   ]
  },
  {
   "cell_type": "code",
   "execution_count": 20,
   "metadata": {
    "collapsed": true
   },
   "outputs": [],
   "source": [
    "ucb_list = lambda L: ', '.join(['%.3f' % x for x in L])\n",
    "\n",
    "def mean(lst):\n",
    "    sm = 0\n",
    "    count = 0\n",
    "    for x in lst:\n",
    "        sm += x\n",
    "        count += 1\n",
    "    return 0 if count == 0 else float(sm) / count\n",
    "\n",
    "def stats(lst):\n",
    "    vals = [x for x in lst]\n",
    "    avg = mean(vals)\n",
    "    devs = [(x-avg)*(x-avg) for x in vals]\n",
    "    return (avg, mean(devs))"
   ]
  },
  {
   "cell_type": "code",
   "execution_count": 21,
   "metadata": {
    "collapsed": false
   },
   "outputs": [
    {
     "ename": "NameError",
     "evalue": "name 'df' is not defined",
     "output_type": "error",
     "traceback": [
      "\u001b[0;31m---------------------------------------------------------------------------\u001b[0m",
      "\u001b[0;31mNameError\u001b[0m                                 Traceback (most recent call last)",
      "\u001b[0;32m<ipython-input-21-c8bf9fdfdf61>\u001b[0m in \u001b[0;36m<module>\u001b[0;34m()\u001b[0m\n\u001b[0;32m----> 1\u001b[0;31m \u001b[0mreward\u001b[0m\u001b[0;34m,\u001b[0m \u001b[0mbest_action_reward\u001b[0m\u001b[0;34m,\u001b[0m \u001b[0mucbs\u001b[0m\u001b[0;34m,\u001b[0m \u001b[0mbest_stock\u001b[0m \u001b[0;34m=\u001b[0m \u001b[0mrun\u001b[0m\u001b[0;34m(\u001b[0m\u001b[0mdf\u001b[0m\u001b[0;34m)\u001b[0m\u001b[0;34m\u001b[0m\u001b[0m\n\u001b[0m",
      "\u001b[0;31mNameError\u001b[0m: name 'df' is not defined"
     ]
    }
   ],
   "source": [
    "reward, best_action_reward, ucbs, best_stock = run(df)"
   ]
  },
  {
   "cell_type": "code",
   "execution_count": 22,
   "metadata": {
    "collapsed": false
   },
   "outputs": [
    {
     "ename": "NameError",
     "evalue": "name 'reward' is not defined",
     "output_type": "error",
     "traceback": [
      "\u001b[0;31m---------------------------------------------------------------------------\u001b[0m",
      "\u001b[0;31mNameError\u001b[0m                                 Traceback (most recent call last)",
      "\u001b[0;32m<ipython-input-22-17e2d64ee9ce>\u001b[0m in \u001b[0;36m<module>\u001b[0;34m()\u001b[0m\n\u001b[0;32m----> 1\u001b[0;31m \u001b[0;32mprint\u001b[0m \u001b[0;34m\"Payoff: {}\"\u001b[0m\u001b[0;34m.\u001b[0m\u001b[0mformat\u001b[0m\u001b[0;34m(\u001b[0m\u001b[0mreward\u001b[0m\u001b[0;34m)\u001b[0m\u001b[0;34m\u001b[0m\u001b[0m\n\u001b[0m\u001b[1;32m      2\u001b[0m \u001b[0;32mprint\u001b[0m \u001b[0;34m\"Regret: {}\"\u001b[0m\u001b[0;34m.\u001b[0m\u001b[0mformat\u001b[0m\u001b[0;34m(\u001b[0m\u001b[0mbest_action_reward\u001b[0m \u001b[0;34m-\u001b[0m \u001b[0mreward\u001b[0m\u001b[0;34m)\u001b[0m\u001b[0;34m\u001b[0m\u001b[0m\n\u001b[1;32m      3\u001b[0m \u001b[0;32mprint\u001b[0m \u001b[0;34m\"Best stock: {} (action reward: {})\"\u001b[0m\u001b[0;34m.\u001b[0m\u001b[0mformat\u001b[0m\u001b[0;34m(\u001b[0m\u001b[0mbest_stock\u001b[0m\u001b[0;34m,\u001b[0m \u001b[0mbest_action_reward\u001b[0m\u001b[0;34m)\u001b[0m\u001b[0;34m\u001b[0m\u001b[0m\n\u001b[1;32m      4\u001b[0m \u001b[0;32mprint\u001b[0m \u001b[0;34m\"ucbs: {}\"\u001b[0m\u001b[0;34m.\u001b[0m\u001b[0mformat\u001b[0m\u001b[0;34m(\u001b[0m\u001b[0mucb_list\u001b[0m\u001b[0;34m(\u001b[0m\u001b[0mucbs\u001b[0m\u001b[0;34m)\u001b[0m\u001b[0;34m)\u001b[0m\u001b[0;34m\u001b[0m\u001b[0m\n",
      "\u001b[0;31mNameError\u001b[0m: name 'reward' is not defined"
     ]
    }
   ],
   "source": [
    "print \"Payoff: {}\".format(reward)\n",
    "print \"Regret: {}\".format(best_action_reward - reward)\n",
    "print \"Best stock: {} (action reward: {})\".format(best_stock, best_action_reward)\n",
    "print \"ucbs: {}\".format(ucb_list(ucbs))\n"
   ]
  },
  {
   "cell_type": "code",
   "execution_count": 23,
   "metadata": {
    "collapsed": false
   },
   "outputs": [
    {
     "ename": "NameError",
     "evalue": "name 'df' is not defined",
     "output_type": "error",
     "traceback": [
      "\u001b[0;31m---------------------------------------------------------------------------\u001b[0m",
      "\u001b[0;31mNameError\u001b[0m                                 Traceback (most recent call last)",
      "\u001b[0;32m<ipython-input-23-ef56b6cb7ec7>\u001b[0m in \u001b[0;36m<module>\u001b[0;34m()\u001b[0m\n\u001b[0;32m----> 1\u001b[0;31m \u001b[0mdays\u001b[0m \u001b[0;34m=\u001b[0m \u001b[0mlen\u001b[0m\u001b[0;34m(\u001b[0m\u001b[0mdf\u001b[0m\u001b[0;34m[\u001b[0m\u001b[0;34m'open_price'\u001b[0m\u001b[0;34m]\u001b[0m\u001b[0;34m.\u001b[0m\u001b[0mix\u001b[0m\u001b[0;34m[\u001b[0m\u001b[0;34m:\u001b[0m\u001b[0;34m,\u001b[0m\u001b[0;36m0\u001b[0m\u001b[0;34m]\u001b[0m\u001b[0;34m)\u001b[0m\u001b[0;34m\u001b[0m\u001b[0m\n\u001b[0m\u001b[1;32m      2\u001b[0m \u001b[0;34m\u001b[0m\u001b[0m\n\u001b[1;32m      3\u001b[0m \u001b[0mreward\u001b[0m \u001b[0;34m=\u001b[0m \u001b[0;32mlambda\u001b[0m \u001b[0mchoice\u001b[0m\u001b[0;34m,\u001b[0m \u001b[0mt\u001b[0m\u001b[0;34m:\u001b[0m \u001b[0mpayoff\u001b[0m\u001b[0;34m(\u001b[0m\u001b[0mdf\u001b[0m\u001b[0;34m,\u001b[0m \u001b[0mt\u001b[0m\u001b[0;34m,\u001b[0m \u001b[0mchoice\u001b[0m\u001b[0;34m)\u001b[0m\u001b[0;34m\u001b[0m\u001b[0m\n\u001b[1;32m      4\u001b[0m \u001b[0maction_rewards\u001b[0m \u001b[0;34m=\u001b[0m \u001b[0;32mlambda\u001b[0m \u001b[0ms\u001b[0m\u001b[0;34m:\u001b[0m \u001b[0mnp\u001b[0m\u001b[0;34m.\u001b[0m\u001b[0marray\u001b[0m\u001b[0;34m(\u001b[0m\u001b[0;34m[\u001b[0m\u001b[0mreward\u001b[0m\u001b[0;34m(\u001b[0m\u001b[0ms\u001b[0m\u001b[0;34m,\u001b[0m\u001b[0mt\u001b[0m\u001b[0;34m)\u001b[0m \u001b[0;32mfor\u001b[0m \u001b[0mt\u001b[0m \u001b[0;32min\u001b[0m \u001b[0mrange\u001b[0m\u001b[0;34m(\u001b[0m\u001b[0mdays\u001b[0m\u001b[0;34m)\u001b[0m\u001b[0;34m]\u001b[0m\u001b[0;34m)\u001b[0m\u001b[0;34m\u001b[0m\u001b[0m\n\u001b[1;32m      5\u001b[0m \u001b[0mxs\u001b[0m \u001b[0;34m=\u001b[0m \u001b[0mnp\u001b[0m\u001b[0;34m.\u001b[0m\u001b[0marray\u001b[0m\u001b[0;34m(\u001b[0m\u001b[0mlist\u001b[0m\u001b[0;34m(\u001b[0m\u001b[0mrange\u001b[0m\u001b[0;34m(\u001b[0m\u001b[0mdays\u001b[0m\u001b[0;34m)\u001b[0m\u001b[0;34m)\u001b[0m\u001b[0;34m)\u001b[0m\u001b[0;34m\u001b[0m\u001b[0m\n",
      "\u001b[0;31mNameError\u001b[0m: name 'df' is not defined"
     ]
    }
   ],
   "source": [
    "days = len(df['open_price'].ix[:,0])\n",
    "\n",
    "reward = lambda choice, t: payoff(df, t, choice)\n",
    "action_rewards = lambda s: np.array([reward(s,t) for t in range(days)])\n",
    "xs = np.array(list(range(days)))\n",
    "\n",
    "f, ax = plt.subplots(figsize=(15, 7))\n",
    "\n",
    "ax.set_title('Rewards Over Time')\n",
    "ax.set_xlabel('Day')\n",
    "ax.set_ylabel('Reward')\n",
    "ax.set_xlim(0, days-1)\n",
    "for sym in symbol_list:\n",
    "    plt.plot(xs, np.cumsum(action_rewards(sym)), label=sym)\n",
    "\n",
    "plt.legend(bbox_to_anchor=(1.05, 1), loc=2, borderaxespad=0.)"
   ]
  },
  {
   "cell_type": "code",
   "execution_count": null,
   "metadata": {
    "collapsed": true
   },
   "outputs": [],
   "source": []
  }
 ],
 "metadata": {
  "kernelspec": {
   "display_name": "Python 2",
   "language": "python",
   "name": "python2"
  },
  "language_info": {
   "codemirror_mode": {
    "name": "ipython",
    "version": 2
   },
   "file_extension": ".py",
   "mimetype": "text/x-python",
   "name": "python",
   "nbconvert_exporter": "python",
   "pygments_lexer": "ipython2",
   "version": "2.7.8"
  }
 },
 "nbformat": 4,
 "nbformat_minor": 0
}
